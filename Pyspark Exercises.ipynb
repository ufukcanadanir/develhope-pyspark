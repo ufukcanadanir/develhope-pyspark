{
 "cells": [
  {
   "cell_type": "code",
   "execution_count": 75,
   "id": "9d867484",
   "metadata": {},
   "outputs": [],
   "source": [
    "import pyspark\n",
    "from pyspark.sql import SparkSession"
   ]
  },
  {
   "cell_type": "code",
   "execution_count": 76,
   "id": "18cf8dbd",
   "metadata": {},
   "outputs": [],
   "source": [
    "spark = SparkSession.builder.master(\"local[*]\").appName(\"Datamanipulation\").getOrCreate()"
   ]
  },
  {
   "cell_type": "code",
   "execution_count": 77,
   "id": "9e64796c",
   "metadata": {},
   "outputs": [
    {
     "data": {
      "text/html": [
       "\n",
       "            <div>\n",
       "                <p><b>SparkSession - in-memory</b></p>\n",
       "                \n",
       "        <div>\n",
       "            <p><b>SparkContext</b></p>\n",
       "\n",
       "            <p><a href=\"http://192.168.58.74:4040\">Spark UI</a></p>\n",
       "\n",
       "            <dl>\n",
       "              <dt>Version</dt>\n",
       "                <dd><code>v3.3.1</code></dd>\n",
       "              <dt>Master</dt>\n",
       "                <dd><code>local[*]</code></dd>\n",
       "              <dt>AppName</dt>\n",
       "                <dd><code>Datamanipulation</code></dd>\n",
       "            </dl>\n",
       "        </div>\n",
       "        \n",
       "            </div>\n",
       "        "
      ],
      "text/plain": [
       "<pyspark.sql.session.SparkSession at 0x7f9b0827ca60>"
      ]
     },
     "execution_count": 77,
     "metadata": {},
     "output_type": "execute_result"
    }
   ],
   "source": [
    "spark"
   ]
  },
  {
   "cell_type": "code",
   "execution_count": 78,
   "id": "1cb29770",
   "metadata": {},
   "outputs": [],
   "source": [
    "# read our data - lives in a csv file\n",
    "\n",
    "df = spark.read.option(\"header\",\"true\").csv(\"Sample - EU Superstore.csv\")"
   ]
  },
  {
   "cell_type": "code",
   "execution_count": 79,
   "id": "6c800030",
   "metadata": {},
   "outputs": [
    {
     "data": {
      "text/plain": [
       "2827"
      ]
     },
     "execution_count": 79,
     "metadata": {},
     "output_type": "execute_result"
    }
   ],
   "source": [
    "# how many rows of the EU Superstore dataset have the country being France\n",
    "df.filter(df[\"Country\"]==\"France\").count()"
   ]
  },
  {
   "cell_type": "code",
   "execution_count": 80,
   "id": "648e5f8a",
   "metadata": {},
   "outputs": [
    {
     "data": {
      "text/plain": [
       "2277"
      ]
     },
     "execution_count": 80,
     "metadata": {},
     "output_type": "execute_result"
    }
   ],
   "source": [
    "# of those, how many are profitable?\n",
    "df.filter((df.Country == \"France\") & (df.Profit>0)).count()"
   ]
  },
  {
   "cell_type": "code",
   "execution_count": 81,
   "id": "ca611b93",
   "metadata": {},
   "outputs": [
    {
     "name": "stdout",
     "output_type": "stream",
     "text": [
      "+--------+\n",
      "|Discount|\n",
      "+--------+\n",
      "|     0.3|\n",
      "|     0.7|\n",
      "|       0|\n",
      "|     0.2|\n",
      "|    0.15|\n",
      "|    0.35|\n",
      "|     0.8|\n",
      "|    0.45|\n",
      "|     0.5|\n",
      "|    0.65|\n",
      "|     0.6|\n",
      "|     0.1|\n",
      "|    0.85|\n",
      "|     0.4|\n",
      "+--------+\n",
      "\n"
     ]
    }
   ],
   "source": [
    "# how any different discount brackets exist? what are they?\n",
    "df.select(\"Discount\").distinct().show(15)"
   ]
  },
  {
   "cell_type": "code",
   "execution_count": 82,
   "id": "b2e1f9f0",
   "metadata": {},
   "outputs": [],
   "source": [
    "# let's see the totl profit by discount bracket, make sure they are ordered by \n"
   ]
  },
  {
   "cell_type": "code",
   "execution_count": 83,
   "id": "d1d76050",
   "metadata": {},
   "outputs": [
    {
     "name": "stdout",
     "output_type": "stream",
     "text": [
      "+------------------+--------+\n",
      "|        Real Price|   Sales|\n",
      "+------------------+--------+\n",
      "|              79.2|    79.2|\n",
      "|            388.92|  388.92|\n",
      "|             35.19|   35.19|\n",
      "|             50.94|   50.94|\n",
      "|            307.44|  307.44|\n",
      "|             122.4|   122.4|\n",
      "|            413.82|  413.82|\n",
      "|            428.22|  428.22|\n",
      "|           3979.29| 3979.29|\n",
      "|             43.56|   43.56|\n",
      "|             25.26|   25.26|\n",
      "|2715.4500000000003|2443.905|\n",
      "|             12.21|   12.21|\n",
      "|2549.7599999999998|2167.296|\n",
      "|            153.45| 138.105|\n",
      "|142.64999999999998| 128.385|\n",
      "|            690.12|  690.12|\n",
      "|              8.16|    8.16|\n",
      "|            347.88|  347.88|\n",
      "| 639.4499999999999| 575.505|\n",
      "+------------------+--------+\n",
      "only showing top 20 rows\n",
      "\n"
     ]
    }
   ],
   "source": [
    "# what is the value after which we should stop offering discount?\n",
    "df = df.withColumn(\"Real Price\",df.Sales/(1-df.Discount))\n",
    "df.select(\"Real Price\", \"Sales\").show()"
   ]
  },
  {
   "cell_type": "code",
   "execution_count": 84,
   "id": "aae94ee1",
   "metadata": {},
   "outputs": [],
   "source": [
    "# who are the top 5 most profitable customers\n",
    "top5 = df.groupBy(\"Customer Name\").agg({\"Profit\":\"sum\"}).orderBy(\"sum(Profit)\",ascending=False).limit(5)\n"
   ]
  },
  {
   "cell_type": "code",
   "execution_count": 85,
   "id": "277c465a",
   "metadata": {},
   "outputs": [],
   "source": [
    "# get all the rows belonging to those 5 customer names: hint, you may need the collect method - how many rows are they?\n"
   ]
  },
  {
   "cell_type": "code",
   "execution_count": 86,
   "id": "8d0fc034",
   "metadata": {},
   "outputs": [
    {
     "name": "stdout",
     "output_type": "stream",
     "text": [
      "+------------------+--------+\n",
      "|        Real Price|   Sales|\n",
      "+------------------+--------+\n",
      "|              79.2|    79.2|\n",
      "|            388.92|  388.92|\n",
      "|             35.19|   35.19|\n",
      "|             50.94|   50.94|\n",
      "|            307.44|  307.44|\n",
      "|             122.4|   122.4|\n",
      "|            413.82|  413.82|\n",
      "|            428.22|  428.22|\n",
      "|           3979.29| 3979.29|\n",
      "|             43.56|   43.56|\n",
      "|             25.26|   25.26|\n",
      "|2715.4500000000003|2443.905|\n",
      "|             12.21|   12.21|\n",
      "|2549.7599999999998|2167.296|\n",
      "|            153.45| 138.105|\n",
      "|142.64999999999998| 128.385|\n",
      "|            690.12|  690.12|\n",
      "|              8.16|    8.16|\n",
      "|            347.88|  347.88|\n",
      "| 639.4499999999999| 575.505|\n",
      "+------------------+--------+\n",
      "only showing top 20 rows\n",
      "\n"
     ]
    }
   ],
   "source": [
    "# create a new column which is the value of the sale were there not discount applied. Hint: orginal = sales/(1-d)\n",
    "df = df.withColumn(\"Real Price\",df.Sales/(1-df.Discount))\n",
    "df.select(\"Real Price\", \"Sales\").show()"
   ]
  },
  {
   "cell_type": "code",
   "execution_count": null,
   "id": "5f9d09ac",
   "metadata": {},
   "outputs": [],
   "source": []
  },
  {
   "cell_type": "code",
   "execution_count": 87,
   "id": "ba0f9aa9",
   "metadata": {},
   "outputs": [
    {
     "name": "stdout",
     "output_type": "stream",
     "text": [
      "+--------------------+\n",
      "|(Real Price - Sales)|\n",
      "+--------------------+\n",
      "|                 0.0|\n",
      "|                 0.0|\n",
      "|                 0.0|\n",
      "|                 0.0|\n",
      "|                 0.0|\n",
      "|                 0.0|\n",
      "|                 0.0|\n",
      "|                 0.0|\n",
      "|                 0.0|\n",
      "|                 0.0|\n",
      "|                 0.0|\n",
      "|   271.5450000000001|\n",
      "|                 0.0|\n",
      "|  382.46399999999994|\n",
      "|  15.344999999999999|\n",
      "|  14.264999999999986|\n",
      "|                 0.0|\n",
      "|                 0.0|\n",
      "|                 0.0|\n",
      "|  63.944999999999936|\n",
      "+--------------------+\n",
      "only showing top 20 rows\n",
      "\n"
     ]
    }
   ],
   "source": [
    "# calculate the difference between sales and discount value\n",
    "df.select(df[\"Real Price\"]-df[\"Sales\"]).show()"
   ]
  },
  {
   "cell_type": "code",
   "execution_count": 88,
   "id": "8e810f4f",
   "metadata": {},
   "outputs": [],
   "source": [
    "# how much money did we not gain due to the discounts - per discount bracket?\n"
   ]
  },
  {
   "cell_type": "code",
   "execution_count": 89,
   "id": "76aca9f2",
   "metadata": {},
   "outputs": [],
   "source": [
    "# find the discount bracket which made us not gain the most (dynamically)\n",
    "\n"
   ]
  },
  {
   "cell_type": "code",
   "execution_count": 90,
   "id": "0aa9b685",
   "metadata": {},
   "outputs": [],
   "source": [
    "# what would have been the total profit if we removed all orders from that discount group? \n"
   ]
  },
  {
   "cell_type": "code",
   "execution_count": 91,
   "id": "fca95e60",
   "metadata": {},
   "outputs": [],
   "source": [
    "#how much more (or less) profit is that?\n",
    "\n"
   ]
  },
  {
   "cell_type": "code",
   "execution_count": 92,
   "id": "0fb49200",
   "metadata": {},
   "outputs": [],
   "source": [
    "# create a temporary table for our superstore table in sql\n",
    "df.createOrReplaceTempView(\"Superstore\")"
   ]
  },
  {
   "cell_type": "code",
   "execution_count": 93,
   "id": "a23e0bca",
   "metadata": {},
   "outputs": [
    {
     "name": "stdout",
     "output_type": "stream",
     "text": [
      "+--------+\n",
      "|count(1)|\n",
      "+--------+\n",
      "|   10000|\n",
      "+--------+\n",
      "\n"
     ]
    }
   ],
   "source": [
    "# use an SQL query to count the number of rows\n",
    "rows = spark.sql(\"SELECT COUNT(*) FROM Superstore\")\n",
    "rows.show()"
   ]
  },
  {
   "cell_type": "code",
   "execution_count": 94,
   "id": "8e2cf9f2",
   "metadata": {},
   "outputs": [
    {
     "name": "stdout",
     "output_type": "stream",
     "text": [
      "+--------------+--------------------------+\n",
      "|       Country|(sum(Profit) / sum(Sales))|\n",
      "+--------------+--------------------------+\n",
      "|        Sweden|       -0.5745674280714466|\n",
      "|       Germany|       0.17066792076621765|\n",
      "|        France|       0.12693568221933804|\n",
      "|       Belgium|       0.23508766583987942|\n",
      "|       Finland|       0.18864296633316185|\n",
      "|         Italy|       0.06844355185424991|\n",
      "|        Norway|        0.2517747548521659|\n",
      "|         Spain|       0.18941580658358978|\n",
      "|       Denmark|       -0.4957190005664471|\n",
      "|       Ireland|      -0.44426677493909256|\n",
      "|   Switzerland|        0.2909201193350232|\n",
      "|      Portugal|       -0.5761662270806188|\n",
      "|       Austria|        0.2641908775042505|\n",
      "|United Kingdom|       0.21170103540397134|\n",
      "|   Netherlands|       -0.5298342790541865|\n",
      "+--------------+--------------------------+\n",
      "\n"
     ]
    }
   ],
   "source": [
    "# Use an SQL query to calculate the profit ratio for each country: hint, ratio is sum(profit)/sum(sales)\n",
    "profit_ratio = spark.sql(\"SELECT Country, SUM(Profit)/sum(Sales) FROM Superstore GROUP BY Country\")\n",
    "profit_ratio.show()\n"
   ]
  },
  {
   "cell_type": "code",
   "execution_count": 95,
   "id": "f8cdd772",
   "metadata": {},
   "outputs": [],
   "source": [
    "# is the country with the largest profit ratio, the country with the largest profit?\n",
    "\n"
   ]
  },
  {
   "cell_type": "code",
   "execution_count": null,
   "id": "4c7397b1",
   "metadata": {},
   "outputs": [],
   "source": []
  }
 ],
 "metadata": {
  "kernelspec": {
   "display_name": "Python 3",
   "language": "python",
   "name": "python3"
  },
  "language_info": {
   "codemirror_mode": {
    "name": "ipython",
    "version": 3
   },
   "file_extension": ".py",
   "mimetype": "text/x-python",
   "name": "python",
   "nbconvert_exporter": "python",
   "pygments_lexer": "ipython3",
   "version": "3.10.6"
  },
  "vscode": {
   "interpreter": {
    "hash": "31f2aee4e71d21fbe5cf8b01ff0e069b9275f58929596ceb00d14d90e3e16cd6"
   }
  }
 },
 "nbformat": 4,
 "nbformat_minor": 5
}
